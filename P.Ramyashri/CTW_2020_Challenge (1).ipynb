{
  "nbformat": 4,
  "nbformat_minor": 0,
  "metadata": {
    "kernelspec": {
      "display_name": "Python 3",
      "language": "python",
      "name": "python3"
    },
    "language_info": {
      "codemirror_mode": {
        "name": "ipython",
        "version": 3
      },
      "file_extension": ".py",
      "mimetype": "text/x-python",
      "name": "python",
      "nbconvert_exporter": "python",
      "pygments_lexer": "ipython3",
      "version": "3.6.8"
    },
    "colab": {
      "name": "CTW 2020 Challenge ",
      "provenance": [],
      "toc_visible": true
    }
  },
  "cells": [
    {
      "cell_type": "markdown",
      "metadata": {
        "id": "HSi9n9JcTwaD"
      },
      "source": [
        "# IMPORTS"
      ]
    },
    {
      "cell_type": "code",
      "metadata": {
        "id": "Zlb9pQXxspDM"
      },
      "source": [
        "import os\n",
        "os.environ[\"CUDA_VISIBLE_DEVICES\"]=\"2\"  # specify which GPU(s) to be used\n",
        "import numpy as np\n",
        "import h5py\n",
        "import matplotlib.pyplot as plt\n",
        "import os.path\n",
        "import tensorflow as tf \n",
        "import numpy as np\n"
      ],
      "execution_count": 1,
      "outputs": []
    },
    {
      "cell_type": "code",
      "metadata": {
        "colab": {
          "base_uri": "https://localhost:8080/"
        },
        "id": "DHwcEn7SuhEK",
        "outputId": "a9638cdb-1ac7-4454-ab78-45834bb054e4"
      },
      "source": [
        "from google.colab import drive\n",
        "drive.mount('/content/drive')"
      ],
      "execution_count": 2,
      "outputs": [
        {
          "output_type": "stream",
          "text": [
            "Drive already mounted at /content/drive; to attempt to forcibly remount, call drive.mount(\"/content/drive\", force_remount=True).\n"
          ],
          "name": "stdout"
        }
      ]
    },
    {
      "cell_type": "markdown",
      "metadata": {
        "id": "grqOxm81ovqg"
      },
      "source": [
        "# DATA LOADING"
      ]
    },
    {
      "cell_type": "code",
      "metadata": {
        "id": "KNR7CR0KvnaW"
      },
      "source": [
        "CTW_labelled = \"/content/drive/MyDrive/CTW2020/Unzipped/CTW2020_labelled_data\"\r\n",
        "CTW_unlabelled=\"/content/drive/MyDrive/CTW2020/Unzipped/CTW2020_unlabelled_data\""
      ],
      "execution_count": 3,
      "outputs": []
    },
    {
      "cell_type": "code",
      "metadata": {
        "id": "0Fd4x-bnspDW"
      },
      "source": [
        "def get_data(data_file):\n",
        "    \n",
        "    f = h5py.File(data_file, 'r')\n",
        "    H_Re = f['H_Re'][:] #shape (sample size, 56, 924, 5)\n",
        "    H_Im = f['H_Im'][:] #shape (sample size, 56, 924, 5)\n",
        "    SNR = f['SNR'][:] #shape (sample size, 56, 5)\n",
        "    Pos = f['Pos'][:] #shape(sample size, 3)\n",
        "    f.close()\n",
        "            \n",
        "    return H_Re, H_Im, SNR, Pos        "
      ],
      "execution_count": 4,
      "outputs": []
    },
    {
      "cell_type": "code",
      "metadata": {
        "colab": {
          "base_uri": "https://localhost:8080/"
        },
        "id": "gXRnS9TXspDX",
        "outputId": "9482eb96-0934-4536-eda2-e02b03ced46f"
      },
      "source": [
        "### example code to load data from file_1.hdf4  ###\n",
        "\n",
        "data_file = CTW_labelled+\"/file_\"+str(2)+\".hdf5\"\n",
        "H_Re, H_Im, SNR, Pos = get_data(data_file)\n",
        "print(\"H_Re is of shape {}\".format(H_Re.shape))\n",
        "print(\"H_Im is of shape {}\".format(H_Im.shape))\n",
        "print(\"SNR is of shape {}\".format(SNR.shape))\n",
        "print(\"Pos is of shape {}\".format(Pos.shape))"
      ],
      "execution_count": 5,
      "outputs": [
        {
          "output_type": "stream",
          "text": [
            "H_Re is of shape (512, 56, 924, 5)\n",
            "H_Im is of shape (512, 56, 924, 5)\n",
            "SNR is of shape (512, 56, 5)\n",
            "Pos is of shape (512, 3)\n"
          ],
          "name": "stdout"
        }
      ]
    },
    {
      "cell_type": "code",
      "metadata": {
        "id": "s4nPCwwcGtJK"
      },
      "source": [
        "\r\n",
        "H_Re_T=tf.convert_to_tensor(H_Re)\r\n",
        "H_Im_T=tf.convert_to_tensor(H_Im)\r\n",
        "SNR_T=tf.convert_to_tensor(SNR)\r\n",
        "Pos_T=tf.convert_to_tensor(Pos)\r\n"
      ],
      "execution_count": 6,
      "outputs": []
    },
    {
      "cell_type": "markdown",
      "metadata": {
        "id": "BUz95T7dT1tC"
      },
      "source": [
        "# Preprocessing "
      ]
    },
    {
      "cell_type": "markdown",
      "metadata": {
        "id": "fmZXCsJxUukR"
      },
      "source": [
        "A] Median Filter "
      ]
    },
    {
      "cell_type": "code",
      "metadata": {
        "id": "U8Ikskt9O-hl"
      },
      "source": [
        "#amplitude created\r\n",
        "Amp=tf.math.sqrt(tf.math.add(tf.math.square(H_Re_T),tf.math.square(H_Im_T)))\r\n",
        "\r\n"
      ],
      "execution_count": 7,
      "outputs": []
    },
    {
      "cell_type": "code",
      "metadata": {
        "id": "g0hPNzipspDZ",
        "colab": {
          "base_uri": "https://localhost:8080/"
        },
        "outputId": "553a4584-b634-4716-f656-151403476bbf"
      },
      "source": [
        "Amp[:,1,:,1].shape # (number of sample,number of subcarriers)"
      ],
      "execution_count": 8,
      "outputs": [
        {
          "output_type": "execute_result",
          "data": {
            "text/plain": [
              "TensorShape([512, 924])"
            ]
          },
          "metadata": {
            "tags": []
          },
          "execution_count": 8
        }
      ]
    },
    {
      "cell_type": "code",
      "metadata": {
        "id": "Cxhe6XCM5hJP"
      },
      "source": [
        "CSI1=Amp[:,1,:,0] #CSI Image of each location , 1st measurement \r\n",
        "CSI2=Amp[:,1,:,1] #CSI Image of each location , 2st measurement \r\n",
        "CSI3=Amp[:,1,:,2] #CSI Image of each location , 3st measurement \r\n",
        "CSI4=Amp[:,1,:,3] #CSI Image of each location , 4st measurement \r\n",
        "CSI5=Amp[:,1,:,4] #CSI Image of each location , 5st measurement "
      ],
      "execution_count": 9,
      "outputs": []
    },
    {
      "cell_type": "code",
      "metadata": {
        "colab": {
          "base_uri": "https://localhost:8080/"
        },
        "id": "46P78KmlWQ2x",
        "outputId": "1f739362-1f45-4414-e9f6-6eebf403aa45"
      },
      "source": [
        "CSI1"
      ],
      "execution_count": 10,
      "outputs": [
        {
          "output_type": "execute_result",
          "data": {
            "text/plain": [
              "<tf.Tensor: shape=(512, 924), dtype=float16, numpy=\n",
              "array([[0.10767, 0.149  , 0.179  , ..., 0.0803 , 0.0683 , 0.05087],\n",
              "       [0.02602, 0.03723, 0.04733, ..., 0.04886, 0.04248, 0.0318 ],\n",
              "       [0.05402, 0.0744 , 0.08887, ..., 0.02646, 0.0238 , 0.01753],\n",
              "       ...,\n",
              "       [0.4797 , 0.6553 , 0.786  , ..., 0.4478 , 0.3828 , 0.286  ],\n",
              "       [0.01546, 0.02376, 0.03262, ..., 0.4336 , 0.3677 , 0.2732 ],\n",
              "       [0.00798, 0.01151, 0.01384, ..., 0.02791, 0.02208, 0.0155 ]],\n",
              "      dtype=float16)>"
            ]
          },
          "metadata": {
            "tags": []
          },
          "execution_count": 10
        }
      ]
    },
    {
      "cell_type": "code",
      "metadata": {
        "id": "1yChgkfJVxWH"
      },
      "source": [
        "!pip install -q --no-deps tensorflow-addons"
      ],
      "execution_count": 11,
      "outputs": []
    },
    {
      "cell_type": "code",
      "metadata": {
        "id": "bhlTIFEngOSn"
      },
      "source": [
        "#Source:https://gist.github.com/bhawkins/3535131\r\n",
        "#median filter algorithm on coulumns:1D\r\n",
        "\r\n",
        "def medfilt (x, k):\r\n",
        "    \"\"\"Apply a length-k median filter to a 1D array x.\r\n",
        "    Boundaries are extended by repeating endpoints.\r\n",
        "    \"\"\"\r\n",
        "    assert k % 2 == 1, \"Median filter length must be odd.\"\r\n",
        "    #assert x.ndim == 1, \"Input must be one-dimensional.\"\r\n",
        "    k2 = (k - 1) // 2\r\n",
        "    y = np.zeros ((len (x), k), dtype=x.dtype)\r\n",
        "    y[:,k2] = x\r\n",
        "    for i in range (k2):\r\n",
        "        j = k2 - i\r\n",
        "        y[j:,i] = x[:-j]\r\n",
        "        y[:j,i] = x[0]\r\n",
        "        y[:-j,-(i+1)] = x[j:]\r\n",
        "        y[-j:,-(i+1)] = x[-1]\r\n",
        "    return np.median (y, axis=1)\r\n",
        "\r\n"
      ],
      "execution_count": 12,
      "outputs": []
    },
    {
      "cell_type": "code",
      "metadata": {
        "colab": {
          "base_uri": "https://localhost:8080/"
        },
        "id": "D4KMHCtBg0sV",
        "outputId": "37297a91-c2c1-4644-a601-880d331e7e29"
      },
      "source": [
        "#test case:1D array\r\n",
        "\r\n",
        "x=np.array([2,100,4,6])\r\n",
        "medfilt(x,3)"
      ],
      "execution_count": 13,
      "outputs": [
        {
          "output_type": "execute_result",
          "data": {
            "text/plain": [
              "array([2., 4., 6., 6.])"
            ]
          },
          "metadata": {
            "tags": []
          },
          "execution_count": 13
        }
      ]
    },
    {
      "cell_type": "code",
      "metadata": {
        "id": "uSexZd7Ao1Fy"
      },
      "source": [
        "#test case for 2D image 1 D filter as explained in the paper\r\n",
        "img=[[2,3,4],[100,2,3],[4,70000,3],[6,2,50000]]\r\n",
        "imgnp=np.array(img)\r\n"
      ],
      "execution_count": 14,
      "outputs": []
    },
    {
      "cell_type": "code",
      "metadata": {
        "colab": {
          "base_uri": "https://localhost:8080/"
        },
        "id": "TYD2BKFyyK67",
        "outputId": "ab2cbc7f-481d-47df-e463-66ad08abeb33"
      },
      "source": [
        "imgnp"
      ],
      "execution_count": 15,
      "outputs": [
        {
          "output_type": "execute_result",
          "data": {
            "text/plain": [
              "array([[    2,     3,     4],\n",
              "       [  100,     2,     3],\n",
              "       [    4, 70000,     3],\n",
              "       [    6,     2, 50000]])"
            ]
          },
          "metadata": {
            "tags": []
          },
          "execution_count": 15
        }
      ]
    },
    {
      "cell_type": "code",
      "metadata": {
        "id": "UBzKmJYPuxYP"
      },
      "source": [
        "#test case to find median column wise median filter for sample image \r\n",
        "final0=np.zeros([1,4])\r\n",
        "final=np.zeros([1,4])\r\n",
        "for i in range(3):\r\n",
        "  imgl=imgnp[:,i]\r\n",
        "  final0=np.append(final0,final)\r\n",
        "  final=medfilt(imgl,3)\r\n",
        "final0=np.append(final0,final)\r\n",
        "fin=np.transpose(final0.reshape(5,4))\r\n",
        "fin1=np.delete(fin, [0,1], 1)"
      ],
      "execution_count": 18,
      "outputs": []
    },
    {
      "cell_type": "code",
      "metadata": {
        "colab": {
          "base_uri": "https://localhost:8080/"
        },
        "id": "GaY9OYqaNBJD",
        "outputId": "67944f3c-61f1-4ce5-ff0f-c7d0e80be6a7"
      },
      "source": [
        "fin1"
      ],
      "execution_count": 19,
      "outputs": [
        {
          "output_type": "execute_result",
          "data": {
            "text/plain": [
              "array([[2.e+00, 3.e+00, 4.e+00],\n",
              "       [4.e+00, 3.e+00, 3.e+00],\n",
              "       [6.e+00, 2.e+00, 3.e+00],\n",
              "       [6.e+00, 2.e+00, 5.e+04]])"
            ]
          },
          "metadata": {
            "tags": []
          },
          "execution_count": 19
        }
      ]
    },
    {
      "cell_type": "code",
      "metadata": {
        "id": "6nd7pErf9Y5o"
      },
      "source": [
        "#median filter on actual CSI images (we have 5 csi images for, 5 measurements)\r\n",
        "\r\n",
        "CSI1n=CSI1.numpy()\r\n",
        "\r\n",
        "final1=np.zeros([1,512])\r\n",
        "final2=np.zeros([1,512])\r\n",
        "\r\n",
        "for i in range(924):\r\n",
        "  img1=CSI1n[:,i]\r\n",
        "  final2=np.append(final2,final1)\r\n",
        "  final1=medfilt(img1,3)\r\n",
        "final2=np.append(final2,final1)\r\n",
        "CSI1fin=np.transpose(final2.reshape(926,512)) \r\n",
        "CSI1_fil=np.delete(CSI1fin, [0,1], 1)\r\n",
        "\r\n",
        "CSI2n=CSI2.numpy()\r\n",
        "final3=np.zeros([1,512])\r\n",
        "final4=np.zeros([1,512])\r\n",
        "for i in range(924):\r\n",
        "  img2=CSI2n[:,i]\r\n",
        "  final4=np.append(final4,final3)\r\n",
        "  final3=medfilt(img2,3)\r\n",
        "final4=np.append(final4,final3)\r\n",
        "CSI1fin=np.transpose(final4.reshape(926,512)) \r\n",
        "CSI2_fil=np.delete(CSI1fin, [0,1], 1)\r\n",
        "\r\n",
        "CSI3n=CSI3.numpy()\r\n",
        "CSI1_fil3=np.delete(CSI1fin, [0,1], 1)\r\n",
        "final5=np.zeros([1,512])\r\n",
        "final6=np.zeros([1,512])\r\n",
        "for i in range(924):\r\n",
        "  img3=CSI3n[:,i]\r\n",
        "  final6=np.append(final6,final5)\r\n",
        "  final5=medfilt(img3,3)\r\n",
        "final6=np.append(final6,final5)\r\n",
        "CSI1fin=np.transpose(final6.reshape(926,512)) \r\n",
        "CSI3_fil=np.delete(CSI1fin, [0,1], 1)\r\n",
        "\r\n",
        "CSI4n=CSI4.numpy()\r\n",
        "final7=np.zeros([1,512])\r\n",
        "final8=np.zeros([1,512])\r\n",
        "for i in range(924):\r\n",
        "  img4=CSI4n[:,i]\r\n",
        "  final8=np.append(final8,final7)\r\n",
        "  final7=medfilt(img4,3)\r\n",
        "final8=np.append(final8,final7)\r\n",
        "CSI4_fin=np.transpose(final8.reshape(926,512))\r\n",
        "\r\n",
        "\r\n",
        "CSI5n=CSI5.numpy()\r\n",
        "final10=np.zeros([1,512])\r\n",
        "final9=np.zeros([1,512])\r\n",
        "for i in range(924):\r\n",
        "  img5=CSI5n[:,i]\r\n",
        "  final9=np.append(final10,final9)\r\n",
        "  final10=medfilt(img5,3)\r\n",
        "final10=np.append(final10,final9)\r\n",
        "CSI1fin=np.transpose(final10.reshape(926,512)) \r\n",
        "CSI5_fil=np.delete(CSI1fin, [0,1], 1)\r\n",
        "\r\n"
      ],
      "execution_count": 20,
      "outputs": []
    },
    {
      "cell_type": "code",
      "metadata": {
        "colab": {
          "base_uri": "https://localhost:8080/"
        },
        "id": "_tFWTo5b2O9S",
        "outputId": "5b00b442-1ed1-4be1-de66-2566d09dfe9c"
      },
      "source": [
        "CSI1_fil.shape"
      ],
      "execution_count": 21,
      "outputs": [
        {
          "output_type": "execute_result",
          "data": {
            "text/plain": [
              "(512, 924)"
            ]
          },
          "metadata": {
            "tags": []
          },
          "execution_count": 21
        }
      ]
    },
    {
      "cell_type": "code",
      "metadata": {
        "colab": {
          "base_uri": "https://localhost:8080/"
        },
        "id": "tS5yzZki2zrF",
        "outputId": "1bbb84a9-df52-4e17-bb7b-f84834e9125b"
      },
      "source": [
        "CSI1_fil"
      ],
      "execution_count": 22,
      "outputs": [
        {
          "output_type": "execute_result",
          "data": {
            "text/plain": [
              "array([[0.10766602, 0.14904785, 0.17895508, ..., 0.08032227, 0.06829834,\n",
              "        0.0508728 ],\n",
              "       [0.05401611, 0.07440186, 0.08886719, ..., 0.04885864, 0.04248047,\n",
              "        0.03179932],\n",
              "       [0.04147339, 0.05838013, 0.06982422, ..., 0.02645874, 0.02380371,\n",
              "        0.01753235],\n",
              "       ...,\n",
              "       [0.06140137, 0.07995605, 0.09295654, ..., 0.43359375, 0.36767578,\n",
              "        0.27319336],\n",
              "       [0.01545715, 0.02375793, 0.03262329, ..., 0.43359375, 0.36767578,\n",
              "        0.27319336],\n",
              "       [0.00798035, 0.01151276, 0.01383972, ..., 0.02790833, 0.02207947,\n",
              "        0.01550293]])"
            ]
          },
          "metadata": {
            "tags": []
          },
          "execution_count": 22
        }
      ]
    },
    {
      "cell_type": "code",
      "metadata": {
        "colab": {
          "base_uri": "https://localhost:8080/"
        },
        "id": "X2S671Ec22uR",
        "outputId": "2419b0df-83ff-4774-ea6e-e36f8c361758"
      },
      "source": [
        "CSI2_fil.shape"
      ],
      "execution_count": 23,
      "outputs": [
        {
          "output_type": "execute_result",
          "data": {
            "text/plain": [
              "(512, 924)"
            ]
          },
          "metadata": {
            "tags": []
          },
          "execution_count": 23
        }
      ]
    },
    {
      "cell_type": "code",
      "metadata": {
        "colab": {
          "base_uri": "https://localhost:8080/"
        },
        "id": "PhaBvgH5SbFC",
        "outputId": "742723fd-ca89-4e20-e1c1-be13b130bd96"
      },
      "source": [
        "CSI2_fil"
      ],
      "execution_count": 24,
      "outputs": [
        {
          "output_type": "execute_result",
          "data": {
            "text/plain": [
              "array([[0.10644531, 0.14855957, 0.1796875 , ..., 0.08068848, 0.06854248,\n",
              "        0.05026245],\n",
              "       [0.04360962, 0.0612793 , 0.07531738, ..., 0.04016113, 0.03025818,\n",
              "        0.01893616],\n",
              "       [0.04025269, 0.05429077, 0.06341553, ..., 0.01953125, 0.01430511,\n",
              "        0.01048279],\n",
              "       ...,\n",
              "       [0.01722717, 0.02331543, 0.02812195, ..., 0.0958252 , 0.07989502,\n",
              "        0.05718994],\n",
              "       [0.01065063, 0.01669312, 0.02113342, ..., 0.02757263, 0.02322388,\n",
              "        0.0171051 ],\n",
              "       [0.01065063, 0.01669312, 0.02113342, ..., 0.02757263, 0.02322388,\n",
              "        0.0171051 ]])"
            ]
          },
          "metadata": {
            "tags": []
          },
          "execution_count": 24
        }
      ]
    },
    {
      "cell_type": "markdown",
      "metadata": {
        "id": "5u2LsaH6U79W"
      },
      "source": [
        "B]Normalisation "
      ]
    },
    {
      "cell_type": "code",
      "metadata": {
        "colab": {
          "base_uri": "https://localhost:8080/",
          "height": 214
        },
        "id": "dPQg43GES87j",
        "outputId": "62fe7a1e-5060-441b-b296-69b80be4bf0e"
      },
      "source": [
        ""
      ],
      "execution_count": 308,
      "outputs": [
        {
          "output_type": "error",
          "ename": "NameError",
          "evalue": "ignored",
          "traceback": [
            "\u001b[0;31m---------------------------------------------------------------------------\u001b[0m",
            "\u001b[0;31mNameError\u001b[0m                                 Traceback (most recent call last)",
            "\u001b[0;32m<ipython-input-308-4c1f3f2eb087>\u001b[0m in \u001b[0;36m<module>\u001b[0;34m()\u001b[0m\n\u001b[0;32m----> 1\u001b[0;31m \u001b[0mAi\u001b[0m \u001b[0;34m=\u001b[0m \u001b[0mtf\u001b[0m\u001b[0;34m.\u001b[0m\u001b[0mmath\u001b[0m\u001b[0;34m.\u001b[0m\u001b[0mreduce_sum\u001b[0m\u001b[0;34m(\u001b[0m\u001b[0mdata\u001b[0m\u001b[0;34m,\u001b[0m \u001b[0;34m[\u001b[0m\u001b[0;36m0\u001b[0m\u001b[0;34m,\u001b[0m \u001b[0;36m2\u001b[0m\u001b[0;34m,\u001b[0m \u001b[0;36m3\u001b[0m\u001b[0;34m]\u001b[0m\u001b[0;34m)\u001b[0m\u001b[0;34m\u001b[0m\u001b[0;34m\u001b[0m\u001b[0m\n\u001b[0m\u001b[1;32m      2\u001b[0m \u001b[0mmaxAi\u001b[0m \u001b[0;34m=\u001b[0m \u001b[0mtf\u001b[0m\u001b[0;34m.\u001b[0m\u001b[0mmath\u001b[0m\u001b[0;34m.\u001b[0m\u001b[0mreduce_max\u001b[0m\u001b[0;34m(\u001b[0m\u001b[0mAi\u001b[0m\u001b[0;34m)\u001b[0m\u001b[0;34m\u001b[0m\u001b[0;34m\u001b[0m\u001b[0m\n\u001b[1;32m      3\u001b[0m \u001b[0mminAi\u001b[0m \u001b[0;34m=\u001b[0m \u001b[0mtf\u001b[0m\u001b[0;34m.\u001b[0m\u001b[0mmath\u001b[0m\u001b[0;34m.\u001b[0m\u001b[0mreduce_min\u001b[0m\u001b[0;34m(\u001b[0m\u001b[0mAi\u001b[0m\u001b[0;34m)\u001b[0m\u001b[0;34m\u001b[0m\u001b[0;34m\u001b[0m\u001b[0m\n\u001b[1;32m      4\u001b[0m \u001b[0mAi\u001b[0m \u001b[0;34m=\u001b[0m \u001b[0mtf\u001b[0m\u001b[0;34m.\u001b[0m\u001b[0mconstant\u001b[0m\u001b[0;34m(\u001b[0m\u001b[0mAi\u001b[0m\u001b[0;34m.\u001b[0m\u001b[0mnumpy\u001b[0m\u001b[0;34m(\u001b[0m\u001b[0;34m)\u001b[0m \u001b[0;34m-\u001b[0m \u001b[0mminAi\u001b[0m\u001b[0;34m.\u001b[0m\u001b[0mnumpy\u001b[0m\u001b[0;34m(\u001b[0m\u001b[0;34m)\u001b[0m\u001b[0;34m)\u001b[0m\u001b[0;34m/\u001b[0m\u001b[0;34m(\u001b[0m\u001b[0mmaxAi\u001b[0m\u001b[0;34m.\u001b[0m\u001b[0mnumpy\u001b[0m\u001b[0;34m(\u001b[0m\u001b[0;34m)\u001b[0m \u001b[0;34m-\u001b[0m \u001b[0mminAi\u001b[0m\u001b[0;34m.\u001b[0m\u001b[0mnumpy\u001b[0m\u001b[0;34m(\u001b[0m\u001b[0;34m)\u001b[0m\u001b[0;34m)\u001b[0m\u001b[0;34m\u001b[0m\u001b[0;34m\u001b[0m\u001b[0m\n",
            "\u001b[0;31mNameError\u001b[0m: name 'data' is not defined"
          ]
        }
      ]
    },
    {
      "cell_type": "code",
      "metadata": {
        "id": "Ok9PjcMXVCUn"
      },
      "source": [
        ""
      ],
      "execution_count": null,
      "outputs": []
    },
    {
      "cell_type": "markdown",
      "metadata": {
        "id": "_EUcBuBJVEc7"
      },
      "source": [
        "# Pretext Model "
      ]
    },
    {
      "cell_type": "markdown",
      "metadata": {
        "id": "hJIic9zWVI6_"
      },
      "source": [
        "# Downstream model  "
      ]
    },
    {
      "cell_type": "code",
      "metadata": {
        "id": "qjfJzdS_U-bj"
      },
      "source": [
        ""
      ],
      "execution_count": null,
      "outputs": []
    }
  ]
}
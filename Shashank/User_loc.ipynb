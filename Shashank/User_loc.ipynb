{
  "nbformat": 4,
  "nbformat_minor": 0,
  "metadata": {
    "colab": {
      "name": "User_loc.ipynb",
      "provenance": [],
      "collapsed_sections": []
    },
    "kernelspec": {
      "name": "python3",
      "display_name": "Python 3"
    }
  },
  "cells": [
    {
      "cell_type": "code",
      "metadata": {
        "colab": {
          "base_uri": "https://localhost:8080/"
        },
        "id": "IUp9J7FhbV1T",
        "outputId": "f0651c14-6cd2-416b-c1b5-da1ad7b76c1b"
      },
      "source": [
        "pip install PyDrive\r\n"
      ],
      "execution_count": 1,
      "outputs": [
        {
          "output_type": "stream",
          "text": [
            "Requirement already satisfied: PyDrive in /usr/local/lib/python3.6/dist-packages (1.3.1)\n",
            "Requirement already satisfied: oauth2client>=4.0.0 in /usr/local/lib/python3.6/dist-packages (from PyDrive) (4.1.3)\n",
            "Requirement already satisfied: google-api-python-client>=1.2 in /usr/local/lib/python3.6/dist-packages (from PyDrive) (1.7.12)\n",
            "Requirement already satisfied: PyYAML>=3.0 in /usr/local/lib/python3.6/dist-packages (from PyDrive) (3.13)\n",
            "Requirement already satisfied: pyasn1-modules>=0.0.5 in /usr/local/lib/python3.6/dist-packages (from oauth2client>=4.0.0->PyDrive) (0.2.8)\n",
            "Requirement already satisfied: six>=1.6.1 in /usr/local/lib/python3.6/dist-packages (from oauth2client>=4.0.0->PyDrive) (1.15.0)\n",
            "Requirement already satisfied: httplib2>=0.9.1 in /usr/local/lib/python3.6/dist-packages (from oauth2client>=4.0.0->PyDrive) (0.17.4)\n",
            "Requirement already satisfied: rsa>=3.1.4 in /usr/local/lib/python3.6/dist-packages (from oauth2client>=4.0.0->PyDrive) (4.6)\n",
            "Requirement already satisfied: pyasn1>=0.1.7 in /usr/local/lib/python3.6/dist-packages (from oauth2client>=4.0.0->PyDrive) (0.4.8)\n",
            "Requirement already satisfied: uritemplate<4dev,>=3.0.0 in /usr/local/lib/python3.6/dist-packages (from google-api-python-client>=1.2->PyDrive) (3.0.1)\n",
            "Requirement already satisfied: google-auth>=1.4.1 in /usr/local/lib/python3.6/dist-packages (from google-api-python-client>=1.2->PyDrive) (1.17.2)\n",
            "Requirement already satisfied: google-auth-httplib2>=0.0.3 in /usr/local/lib/python3.6/dist-packages (from google-api-python-client>=1.2->PyDrive) (0.0.4)\n",
            "Requirement already satisfied: setuptools>=40.3.0 in /usr/local/lib/python3.6/dist-packages (from google-auth>=1.4.1->google-api-python-client>=1.2->PyDrive) (51.3.3)\n",
            "Requirement already satisfied: cachetools<5.0,>=2.0.0 in /usr/local/lib/python3.6/dist-packages (from google-auth>=1.4.1->google-api-python-client>=1.2->PyDrive) (4.2.0)\n"
          ],
          "name": "stdout"
        }
      ]
    },
    {
      "cell_type": "code",
      "metadata": {
        "id": "0XU3RJkpdySF"
      },
      "source": [
        "from pydrive.auth import GoogleAuth\r\n",
        "from pydrive.drive import GoogleDrive\r\n",
        "from google.colab import auth\r\n",
        "from oauth2client.client import GoogleCredentials\r\n"
      ],
      "execution_count": 2,
      "outputs": []
    },
    {
      "cell_type": "code",
      "metadata": {
        "id": "94MfxveYd-R6"
      },
      "source": [
        "\r\n",
        "auth.authenticate_user()\r\n",
        "gauth = GoogleAuth()\r\n",
        "gauth.credentials = GoogleCredentials.get_application_default()\r\n",
        "drive = GoogleDrive(gauth)\r\n"
      ],
      "execution_count": 3,
      "outputs": []
    },
    {
      "cell_type": "code",
      "metadata": {
        "id": "oE-u0ghPen2Y"
      },
      "source": [
        "downloaded = drive.CreateFile({'id':\"1--vWWO4rrJQjr3Xei2JwnD709dTDQKRS\"})   # replace the id with id of file you want to access\r\n",
        "downloaded.GetContentFile('file_1.hdf5') "
      ],
      "execution_count": 4,
      "outputs": []
    },
    {
      "cell_type": "code",
      "metadata": {
        "id": "lAfxnSu8gS1k"
      },
      "source": [
        "import h5py\r\n",
        "import tensorflow as tf\r\n",
        "import scipy.signal"
      ],
      "execution_count": 24,
      "outputs": []
    },
    {
      "cell_type": "code",
      "metadata": {
        "id": "mKcM6xVwfnRE"
      },
      "source": [
        "def get_data(data_file):\r\n",
        "    \r\n",
        "    f = h5py.File(data_file, 'r')\r\n",
        "    H_Re = f['H_Re'][:] #shape (sample size, 56, 924, 5)\r\n",
        "    H_Im = f['H_Im'][:] #shape (sample size, 56, 924, 5)\r\n",
        "    SNR = f['SNR'][:] #shape (sample size, 56, 5)\r\n",
        "    Pos = f['Pos'][:] #shape(sample size, 3)\r\n",
        "    f.close()\r\n",
        "            \r\n",
        "    return H_Re, H_Im, SNR, Pos "
      ],
      "execution_count": 13,
      "outputs": []
    },
    {
      "cell_type": "code",
      "metadata": {
        "id": "3tkJafrDfAXD"
      },
      "source": [
        "H_Re, H_Im, SNR, Pos = get_data('file_1.hdf5')"
      ],
      "execution_count": 14,
      "outputs": []
    },
    {
      "cell_type": "code",
      "metadata": {
        "colab": {
          "base_uri": "https://localhost:8080/"
        },
        "id": "wZKdN4SzfX6O",
        "outputId": "d7432ce7-c162-4a1d-cad0-d6e84037ba85"
      },
      "source": [
        "print(\"H_Re is of shape {}\".format(H_Re.shape))\r\n",
        "print(\"H_Im is of shape {}\".format(H_Im.shape))\r\n",
        "print(\"SNR is of shape {}\".format(SNR.shape))\r\n",
        "print(\"Pos is of shape {}\".format(Pos.shape))"
      ],
      "execution_count": 15,
      "outputs": [
        {
          "output_type": "stream",
          "text": [
            "H_Re is of shape (512, 56, 924, 5)\n",
            "H_Im is of shape (512, 56, 924, 5)\n",
            "SNR is of shape (512, 56, 5)\n",
            "Pos is of shape (512, 3)\n"
          ],
          "name": "stdout"
        }
      ]
    },
    {
      "cell_type": "code",
      "metadata": {
        "id": "8pYXxUsdgbRb"
      },
      "source": [
        "data1 = tf.constant(H_Re)\r\n",
        "data2 = tf.constant(H_Im)\r\n",
        "data = tf.math.sqrt(tf.add(tf.math.square(data1), tf.math.square(data2)))"
      ],
      "execution_count": 19,
      "outputs": []
    },
    {
      "cell_type": "code",
      "metadata": {
        "colab": {
          "base_uri": "https://localhost:8080/"
        },
        "id": "5XcCvhKjg4jW",
        "outputId": "27867f65-10db-461d-a05f-e365dccdd829"
      },
      "source": [
        "print(\"Shape of data is {}\".format(data.shape))"
      ],
      "execution_count": 20,
      "outputs": [
        {
          "output_type": "stream",
          "text": [
            "Shape of data is (512, 56, 924, 5)\n"
          ],
          "name": "stdout"
        }
      ]
    },
    {
      "cell_type": "code",
      "metadata": {
        "colab": {
          "base_uri": "https://localhost:8080/"
        },
        "id": "5J63320UhRie",
        "outputId": "fa13d246-51b9-4cf5-e3c1-889533cb2dfe"
      },
      "source": [
        "data[1][1][1]\r\n"
      ],
      "execution_count": 23,
      "outputs": [
        {
          "output_type": "execute_result",
          "data": {
            "text/plain": [
              "<tf.Tensor: shape=(5,), dtype=float16, numpy=array([0.1969, 0.1945, 0.2024, 0.213 , 0.2192], dtype=float16)>"
            ]
          },
          "metadata": {
            "tags": []
          },
          "execution_count": 23
        }
      ]
    },
    {
      "cell_type": "code",
      "metadata": {
        "id": "AKerMFCCidnI"
      },
      "source": [
        "filtered_data = scipy.signal.medfilt(data,[1,1,1,5])"
      ],
      "execution_count": 27,
      "outputs": []
    },
    {
      "cell_type": "code",
      "metadata": {
        "colab": {
          "base_uri": "https://localhost:8080/"
        },
        "id": "lM2wcrxUk95-",
        "outputId": "21e186d4-ff81-4eda-edb6-74d34794de3e"
      },
      "source": [
        "filtered_data[1][1][1]"
      ],
      "execution_count": 28,
      "outputs": [
        {
          "output_type": "execute_result",
          "data": {
            "text/plain": [
              "array([0.19445801, 0.19689941, 0.20239258, 0.20239258, 0.20239258])"
            ]
          },
          "metadata": {
            "tags": []
          },
          "execution_count": 28
        }
      ]
    },
    {
      "cell_type": "code",
      "metadata": {
        "colab": {
          "base_uri": "https://localhost:8080/"
        },
        "id": "rxCz3nQyldf2",
        "outputId": "7585b088-9aa6-464e-8cef-2999caa96c0c"
      },
      "source": [
        "scipy.signal.medfilt([12,8,4,9,6],5)"
      ],
      "execution_count": 29,
      "outputs": [
        {
          "output_type": "execute_result",
          "data": {
            "text/plain": [
              "array([4., 8., 8., 6., 4.])"
            ]
          },
          "metadata": {
            "tags": []
          },
          "execution_count": 29
        }
      ]
    },
    {
      "cell_type": "code",
      "metadata": {
        "colab": {
          "base_uri": "https://localhost:8080/"
        },
        "id": "-gdPkVzUl0he",
        "outputId": "e70e61d1-0e9f-4811-94c1-e8eb033099c0"
      },
      "source": [
        "print(\"Shape of data is {}\".format(filtered_data.shape))"
      ],
      "execution_count": 30,
      "outputs": [
        {
          "output_type": "stream",
          "text": [
            "Shape of data is (512, 56, 924, 5)\n"
          ],
          "name": "stdout"
        }
      ]
    },
    {
      "cell_type": "code",
      "metadata": {
        "id": "J-dwnITimvnA"
      },
      "source": [
        ""
      ],
      "execution_count": null,
      "outputs": []
    }
  ]
}